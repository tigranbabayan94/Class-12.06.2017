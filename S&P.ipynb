{
 "cells": [
  {
   "cell_type": "code",
   "execution_count": 1,
   "metadata": {
    "collapsed": true
   },
   "outputs": [],
   "source": [
    "import requests"
   ]
  },
  {
   "cell_type": "code",
   "execution_count": 2,
   "metadata": {
    "collapsed": true
   },
   "outputs": [],
   "source": [
    "from BeautifulSoup import *"
   ]
  },
  {
   "cell_type": "code",
   "execution_count": 3,
   "metadata": {
    "collapsed": true
   },
   "outputs": [],
   "source": [
    "url = \"https://www.bloomberg.com/quote/SPX:IND\""
   ]
  },
  {
   "cell_type": "code",
   "execution_count": 4,
   "metadata": {
    "collapsed": true
   },
   "outputs": [],
   "source": [
    "response = requests.get(url)\n",
    "page = response.text\n",
    "soup = BeautifulSoup(page)"
   ]
  },
  {
   "cell_type": "code",
   "execution_count": 16,
   "metadata": {
    "collapsed": false
   },
   "outputs": [],
   "source": [
    "index_name = soup.findAll('h1',attrs={'class':'name'})"
   ]
  },
  {
   "cell_type": "code",
   "execution_count": 17,
   "metadata": {
    "collapsed": false
   },
   "outputs": [
    {
     "name": "stdout",
     "output_type": "stream",
     "text": [
      " S&amp;P 500 Index \n"
     ]
    }
   ],
   "source": [
    "print (index_name[0].string)"
   ]
  },
  {
   "cell_type": "code",
   "execution_count": 18,
   "metadata": {
    "collapsed": true
   },
   "outputs": [],
   "source": [
    "index_value = soup.findAll('div', attrs={'class':'price'})"
   ]
  },
  {
   "cell_type": "code",
   "execution_count": 20,
   "metadata": {
    "collapsed": false
   },
   "outputs": [
    {
     "name": "stdout",
     "output_type": "stream",
     "text": [
      "2,424.33\n"
     ]
    }
   ],
   "source": [
    "print (index_value[0].string)"
   ]
  },
  {
   "cell_type": "code",
   "execution_count": 21,
   "metadata": {
    "collapsed": true
   },
   "outputs": [],
   "source": [
    "urls = [\"https://www.bloomberg.com/quote/SPX:IND\",\n",
    "        \"https://www.bloomberg.com/quote/INDU:IND\",\n",
    "        \"https://www.bloomberg.com/quote/UKX:IND\"]"
   ]
  },
  {
   "cell_type": "code",
   "execution_count": 41,
   "metadata": {
    "collapsed": false
   },
   "outputs": [],
   "source": [
    "import time\n",
    "indicies = []\n",
    "for i in urls:\n",
    "    response = requests.get(i)\n",
    "    page = response.text\n",
    "    soup = BeautifulSoup(page)\n",
    "    index_name = soup.findAll('h1',attrs={'class':'name'})\n",
    "    index_value = soup.findAll('div', attrs={'class':'price'})\n",
    "    indicies.append((index_name[0].string, index_value[0].string))\n",
    "    time.sleep(1)"
   ]
  },
  {
   "cell_type": "code",
   "execution_count": 42,
   "metadata": {
    "collapsed": false
   },
   "outputs": [
    {
     "name": "stdout",
     "output_type": "stream",
     "text": [
      "[(u' S&amp;P 500 Index ', u'2,423.49'), (u' Dow Jones Industrial Average ', u'21,187.27'), (u' FTSE 100 Index ', u'7,511.87')]\n"
     ]
    }
   ],
   "source": [
    "print (indicies)"
   ]
  },
  {
   "cell_type": "code",
   "execution_count": 43,
   "metadata": {
    "collapsed": false
   },
   "outputs": [],
   "source": [
    "import time\n",
    "indicies_dict = {}\n",
    "for i in urls:\n",
    "    response = requests.get(i)\n",
    "    page = response.text\n",
    "    soup = BeautifulSoup(page)\n",
    "    index_name = soup.findAll('h1',attrs={'class':'name'})\n",
    "    index_value = soup.findAll('div', attrs={'class':'price'})\n",
    "    indicies_dict.update({index_name[0].string:index_value[0].string})\n",
    "    time.sleep(1)"
   ]
  },
  {
   "cell_type": "code",
   "execution_count": 44,
   "metadata": {
    "collapsed": false
   },
   "outputs": [
    {
     "name": "stdout",
     "output_type": "stream",
     "text": [
      "{u' S&amp;P 500 Index ': u'2,423.31', u' Dow Jones Industrial Average ': u'21,187.27', u' FTSE 100 Index ': u'7,511.87'}\n"
     ]
    }
   ],
   "source": [
    "print(indicies_dict)"
   ]
  },
  {
   "cell_type": "code",
   "execution_count": null,
   "metadata": {
    "collapsed": true
   },
   "outputs": [],
   "source": []
  }
 ],
 "metadata": {
  "kernelspec": {
   "display_name": "Python 2",
   "language": "python",
   "name": "python2"
  },
  "language_info": {
   "codemirror_mode": {
    "name": "ipython",
    "version": 2
   },
   "file_extension": ".py",
   "mimetype": "text/x-python",
   "name": "python",
   "nbconvert_exporter": "python",
   "pygments_lexer": "ipython2",
   "version": "2.7.13"
  }
 },
 "nbformat": 4,
 "nbformat_minor": 2
}
