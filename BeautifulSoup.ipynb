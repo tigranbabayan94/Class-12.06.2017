{
 "cells": [
  {
   "cell_type": "code",
   "execution_count": 21,
   "metadata": {
    "collapsed": false
   },
   "outputs": [],
   "source": [
    "from BeautifulSoup import *"
   ]
  },
  {
   "cell_type": "code",
   "execution_count": 22,
   "metadata": {
    "collapsed": true
   },
   "outputs": [],
   "source": [
    "import requests"
   ]
  },
  {
   "cell_type": "code",
   "execution_count": 23,
   "metadata": {
    "collapsed": true
   },
   "outputs": [],
   "source": [
    "url = \"https://hrantdavtyan.github.io/\""
   ]
  },
  {
   "cell_type": "code",
   "execution_count": 25,
   "metadata": {
    "collapsed": false
   },
   "outputs": [],
   "source": [
    "response = requests.get(url)"
   ]
  },
  {
   "cell_type": "code",
   "execution_count": 26,
   "metadata": {
    "collapsed": false
   },
   "outputs": [
    {
     "name": "stdout",
     "output_type": "stream",
     "text": [
      "<Response [200]>\n"
     ]
    }
   ],
   "source": [
    "print response"
   ]
  },
  {
   "cell_type": "code",
   "execution_count": 27,
   "metadata": {
    "collapsed": true
   },
   "outputs": [],
   "source": [
    "my_page = response.text"
   ]
  },
  {
   "cell_type": "code",
   "execution_count": 28,
   "metadata": {
    "collapsed": false
   },
   "outputs": [
    {
     "data": {
      "text/plain": [
       "unicode"
      ]
     },
     "execution_count": 28,
     "metadata": {},
     "output_type": "execute_result"
    }
   ],
   "source": [
    "type(my_page)"
   ]
  },
  {
   "cell_type": "code",
   "execution_count": 29,
   "metadata": {
    "collapsed": false
   },
   "outputs": [
    {
     "data": {
      "text/plain": [
       "u'<!DOCTYPE html PUBLIC \"-//W3C//DTD XHTML 1.1//EN\" \"http://www.w3.org/TR/xhtml11/DTD/xhtml11.dtd\">\\r\\n<html xmlns=\"http://www.w3.org/1999/xhtml\" xml:lang=\"en\">\\r\\n\\r\\n<head>\\r\\n    \\r\\n    <title>Hrant Davtyan</title>\\r\\n    <meta http-equiv=\"content-type\" content=\"text/html; charset=utf-8\"/>\\r\\n    <meta http-equiv=\"X-UA-Compatible\" content=\"IE=edge,chrome=1\">\\r\\n    <meta name=\"viewport\" content=\"width=device-width, initial-scale=1, maximum-scale=1\">\\r\\n    <link rel=\"stylesheet\" type=\"text/css\" href=\"css/reset.'"
      ]
     },
     "execution_count": 29,
     "metadata": {},
     "output_type": "execute_result"
    }
   ],
   "source": [
    "my_page[:500]"
   ]
  },
  {
   "cell_type": "code",
   "execution_count": 30,
   "metadata": {
    "collapsed": true
   },
   "outputs": [],
   "source": [
    "soup = BeautifulSoup(my_page)"
   ]
  },
  {
   "cell_type": "code",
   "execution_count": 31,
   "metadata": {
    "collapsed": false
   },
   "outputs": [
    {
     "data": {
      "text/plain": [
       "BeautifulSoup.BeautifulSoup"
      ]
     },
     "execution_count": 31,
     "metadata": {},
     "output_type": "execute_result"
    }
   ],
   "source": [
    "type(soup)"
   ]
  },
  {
   "cell_type": "code",
   "execution_count": 36,
   "metadata": {
    "collapsed": false,
    "scrolled": true
   },
   "outputs": [
    {
     "name": "stdout",
     "output_type": "stream",
     "text": [
      "[<a href=\"#\" class=\"social-text\">SOCIAL PROFILES</a>, <a href=\"https://www.facebook.com/HrantDavtyan\" class=\"social-facebook\"></a>, <a href=\"https://www.linkedin.com/in/hrantdavtyan\" class=\"social-in\"></a>, <a href=\"#profile\" class=\"tab-profile\">Profile</a>, <a href=\"#resume\" class=\"tab-resume\">Resume</a>, <a href=\"#portfolio\" class=\"tab-portfolio\">Portfolio</a>, <a href=\"#contact\" class=\"tab-contact\">Contact</a>, <a href=\"http://aua.am/\">American University of Armenia (AUA)</a>, <a href=\"http://isifa.am/en/ifa-dfi/\">French-German University</a>, <a href=\"https://www.cerge-ei.cz/\">Cerge-EI</a>, <a href=\"http://www.fao.org/armenia/en/\">United Nations Food and Agriculture Organization (UN FAO)</a>, <a href=\"http://www.metric.am/\">METRIC</a>, <a href=\"http://ahpc.am/?lang=en\">Armenian Harvest Promotion Center</a>, <a href=\"http://www.ucl.ac.uk/\">University College London (UCL)</a>, <a href=\"http://iset.tsu.ge/\">International School of Economics (ISET)</a>, <a href=\"\" class=\"current\" data-filter=\"*\">All</a>, <a href=\"\" data-filter=\".statistics\">Statistics</a>, <a href=\"\" data-filter=\".programming\">Programming</a>, <a href=\"\" data-filter=\".teaching\">Teaching</a>, <a href=\"\" data-filter=\".survey\">Survey</a>, <a href=\"\" data-filter=\".other\">Other</a>, <a href=\"https://github.com/HrantDavtyan/HrantDavtyan.github.io\\teaching\\jdocs\\Business Analytics\\html\\index.html\" rel=\"portfolio\" target=\"_new\">\n",
      "<img src=\"portfolio/ba.png\" alt=\"\" />\n",
      "<h2 class=\"title\">Business Analytics</h2>\n",
      "<span class=\"categorie\">Teaching</span>\n",
      "</a>, <a href=\"http://clearwaterbeachassoc.com/wp-content/uploads/2016/01/Under-construction.png\" title=\"Damage and Loss calculator\" rel=\"portfolio\" class=\"folio\">\n",
      "<img src=\"portfolio/r.png\" alt=\"\" />\n",
      "<h2 class=\"title\">PDNA web application</h2>\n",
      "<span class=\"categorie\">Programming / Statistics</span>\n",
      "</a>, <a href=\"http://www.armstat.am/en/?nid=661\" rel=\"portfolio\" class=\"folio iframe\">\n",
      "<img src=\"portfolio/census.jpg\" alt=\"\" />\n",
      "<h2 class=\"title\">General Agriculture Census</h2>\n",
      "<span class=\"categorie\">Statistics</span>\n",
      "</a>, <a href=\"http://clearwaterbeachassoc.com/wp-content/uploads/2016/01/Under-construction.png\" rel=\"portfolio\" class=\"folio\">\n",
      "<img src=\"http://clearwaterbeachassoc.com/wp-content/uploads/2016/01/Under-construction.png\" alt=\"\" />\n",
      "<h2 class=\"title\">Data Science in Armenia</h2>\n",
      "<span class=\"categorie\">Survey / Other</span>\n",
      "</a>, <a href=\"http://clearwaterbeachassoc.com/wp-content/uploads/2016/01/Under-construction.png\" rel=\"portfolio\" class=\"folio\">\n",
      "<img src=\"http://clearwaterbeachassoc.com/wp-content/uploads/2016/01/Under-construction.png\" alt=\"\" />\n",
      "<h2 class=\"title\">MCMC</h2>\n",
      "<span class=\"categorie\">Other</span>\n",
      "</a>, <a href=\"http://clearwaterbeachassoc.com/wp-content/uploads/2016/01/Under-construction.png\" rel=\"portfolio\" class=\"folio\">\n",
      "<img src=\"http://clearwaterbeachassoc.com/wp-content/uploads/2016/01/Under-construction.png\" alt=\"\" />\n",
      "<h2 class=\"title\">Staff apprasial analysis</h2>\n",
      "<span class=\"categorie\">Statistics / Survey</span>\n",
      "</a>, <a href=\"http://clearwaterbeachassoc.com/wp-content/uploads/2016/01/Under-construction.png\" rel=\"portfolio\" class=\"folio\">\n",
      "<img src=\"http://clearwaterbeachassoc.com/wp-content/uploads/2016/01/Under-construction.png\" alt=\"\" />\n",
      "<h2 class=\"title\">Twitter bot</h2>\n",
      "<span class=\"categorie\">Programming</span>\n",
      "</a>, <a href=\"http://clearwaterbeachassoc.com/wp-content/uploads/2016/01/Under-construction.png\" rel=\"portfolio\" class=\"folio\">\n",
      "<img src=\"http://clearwaterbeachassoc.com/wp-content/uploads/2016/01/Under-construction.png\" alt=\"\" />\n",
      "<h2 class=\"title\">Macroeconomics</h2>\n",
      "<span class=\"categorie\">Teaching</span>\n",
      "</a>]\n"
     ]
    }
   ],
   "source": [
    "output = soup.findAll('a')\n",
    "print output"
   ]
  },
  {
   "cell_type": "code",
   "execution_count": 37,
   "metadata": {
    "collapsed": false
   },
   "outputs": [
    {
     "data": {
      "text/plain": [
       "29"
      ]
     },
     "execution_count": 37,
     "metadata": {},
     "output_type": "execute_result"
    }
   ],
   "source": [
    "len(output)"
   ]
  },
  {
   "cell_type": "code",
   "execution_count": 41,
   "metadata": {
    "collapsed": false
   },
   "outputs": [
    {
     "data": {
      "text/plain": [
       "<a href=\"#\" class=\"social-text\">SOCIAL PROFILES</a>"
      ]
     },
     "execution_count": 41,
     "metadata": {},
     "output_type": "execute_result"
    }
   ],
   "source": [
    "soup.a"
   ]
  },
  {
   "cell_type": "code",
   "execution_count": 42,
   "metadata": {
    "collapsed": false,
    "scrolled": true
   },
   "outputs": [
    {
     "name": "stdout",
     "output_type": "stream",
     "text": [
      "#\n",
      "https://www.facebook.com/HrantDavtyan\n",
      "https://www.linkedin.com/in/hrantdavtyan\n",
      "#profile\n",
      "#resume\n",
      "#portfolio\n",
      "#contact\n",
      "http://aua.am/\n",
      "http://isifa.am/en/ifa-dfi/\n",
      "https://www.cerge-ei.cz/\n",
      "http://www.fao.org/armenia/en/\n",
      "http://www.metric.am/\n",
      "http://ahpc.am/?lang=en\n",
      "http://www.ucl.ac.uk/\n",
      "http://iset.tsu.ge/\n",
      "\n",
      "\n",
      "\n",
      "\n",
      "\n",
      "\n",
      "https://github.com/HrantDavtyan/HrantDavtyan.github.io\\teaching\\jdocs\\Business Analytics\\html\\index.html\n",
      "http://clearwaterbeachassoc.com/wp-content/uploads/2016/01/Under-construction.png\n",
      "http://www.armstat.am/en/?nid=661\n",
      "http://clearwaterbeachassoc.com/wp-content/uploads/2016/01/Under-construction.png\n",
      "http://clearwaterbeachassoc.com/wp-content/uploads/2016/01/Under-construction.png\n",
      "http://clearwaterbeachassoc.com/wp-content/uploads/2016/01/Under-construction.png\n",
      "http://clearwaterbeachassoc.com/wp-content/uploads/2016/01/Under-construction.png\n",
      "http://clearwaterbeachassoc.com/wp-content/uploads/2016/01/Under-construction.png\n"
     ]
    }
   ],
   "source": [
    "a_tags = soup.findAll('a')\n",
    "for i in a_tags: \n",
    "    print (i.get(\"href\"))"
   ]
  },
  {
   "cell_type": "code",
   "execution_count": 43,
   "metadata": {
    "collapsed": false
   },
   "outputs": [
    {
     "name": "stdout",
     "output_type": "stream",
     "text": [
      "#\n"
     ]
    }
   ],
   "source": [
    "a_tag = soup.find('a')\n",
    "print(a_tag.get(\"href\"))"
   ]
  },
  {
   "cell_type": "code",
   "execution_count": 44,
   "metadata": {
    "collapsed": true
   },
   "outputs": [],
   "source": [
    "a_tags = soup.findAll('a')"
   ]
  },
  {
   "cell_type": "code",
   "execution_count": 45,
   "metadata": {
    "collapsed": false
   },
   "outputs": [
    {
     "data": {
      "text/plain": [
       "list"
      ]
     },
     "execution_count": 45,
     "metadata": {},
     "output_type": "execute_result"
    }
   ],
   "source": [
    "type(a_tags)"
   ]
  },
  {
   "cell_type": "code",
   "execution_count": 47,
   "metadata": {
    "collapsed": false
   },
   "outputs": [
    {
     "data": {
      "text/plain": [
       "u'https://www.facebook.com/HrantDavtyan'"
      ]
     },
     "execution_count": 47,
     "metadata": {},
     "output_type": "execute_result"
    }
   ],
   "source": [
    "a_tags[1].get(\"href\")"
   ]
  },
  {
   "cell_type": "code",
   "execution_count": 48,
   "metadata": {
    "collapsed": true
   },
   "outputs": [],
   "source": [
    "p_tags = soup.findAll('p')"
   ]
  },
  {
   "cell_type": "code",
   "execution_count": 49,
   "metadata": {
    "collapsed": false
   },
   "outputs": [
    {
     "name": "stdout",
     "output_type": "stream",
     "text": [
      "[<p>I am a Data Enthusiast, teaching Business Analytics and providing consultancy on Statistics, Economics and IT. Feel free to take a look around my webpage.</p>, <p align=\"justify\">I achieved an average feedback score of 4.7 (out of 5) teaching Business Analytics,\r\n",
      "\t\t\t\t\t\t\t\t\tBusiness Mathematics and Macroeconomics courses to overall 111 students.</p>, <p align=\"justify\">Students with no prior knowledge of programming successfully learned Python, R, Stata and IBM SPSS\r\n",
      "\t\t\t\t\t\t\t\t\tand applied their skills by participating to a Kaggle competition as a final course project</p>, <p align=\"justify\">I was awarded a one year fellowship to teach modern economics at local universities.\r\n",
      "\t\t\t\t\t\t\t\t\tDuring the fellowship tenure I taught around 230 students at 3 different universities.</p>, <p align=\"justify\">Developed a software (using R, HTML, CSS) for Post Disaster Needs Assessment.\r\n",
      "\t\t\t\t\t\t\t\t\tConsulted contracted companies regarding Ministry staff appraisal and training needs assessment.\r\n",
      "\t\t\t\t\t\t\t\t\tConsulted National Statistical Service regarding Census (and post census) activities</p>, <p align=\"justify\">Led several major Data Science projects, participated in different quantitative and qualitative surveys\r\n",
      "\t\t\t\t\t\t\t\t\tprovided consulting to local and international, private and public organizations.</p>, <p align=\"justify\">Developed business proposals applying financial and operations analytics techniques. The main tool used were spreadsheets and Microsoft Power tools</p>, <p>Thesis: Vulnerability to manipulation for positional voting rules</p>, <p>Thesis: The effect of correlation neglect on polarization</p>, <p>\n",
      "<label for=\"name\">Your Name</label>\n",
      "<input type=\"text\" name=\"name\" class=\"input\" />\n",
      "</p>, <p>\n",
      "<label for=\"email\">Your Email</label>\n",
      "<input type=\"text\" name=\"email\" class=\"input\" />\n",
      "</p>, <p>\n",
      "<label for=\"message\">Your Message</label>\n",
      "<textarea name=\"message\" cols=\"88\" rows=\"6\" class=\"textarea\"></textarea>\n",
      "</p>]\n"
     ]
    }
   ],
   "source": [
    "print p_tags"
   ]
  },
  {
   "cell_type": "code",
   "execution_count": 50,
   "metadata": {
    "collapsed": true
   },
   "outputs": [],
   "source": [
    "feedback = p_tags[1]"
   ]
  },
  {
   "cell_type": "code",
   "execution_count": 51,
   "metadata": {
    "collapsed": false
   },
   "outputs": [
    {
     "data": {
      "text/plain": [
       "BeautifulSoup.Tag"
      ]
     },
     "execution_count": 51,
     "metadata": {},
     "output_type": "execute_result"
    }
   ],
   "source": [
    "type(feedback)"
   ]
  },
  {
   "cell_type": "code",
   "execution_count": 52,
   "metadata": {
    "collapsed": false
   },
   "outputs": [
    {
     "data": {
      "text/plain": [
       "u'I achieved an average feedback score of 4.7 (out of 5) teaching Business Analytics,\\r\\n\\t\\t\\t\\t\\t\\t\\t\\t\\tBusiness Mathematics and Macroeconomics courses to overall 111 students.'"
      ]
     },
     "execution_count": 52,
     "metadata": {},
     "output_type": "execute_result"
    }
   ],
   "source": [
    "feedback.string"
   ]
  },
  {
   "cell_type": "code",
   "execution_count": 53,
   "metadata": {
    "collapsed": false
   },
   "outputs": [
    {
     "name": "stdout",
     "output_type": "stream",
     "text": [
      "I am a Data Enthusiast, teaching Business Analytics and providing consultancy on Statistics, Economics and IT. Feel free to take a look around my webpage.\n",
      "I achieved an average feedback score of 4.7 (out of 5) teaching Business Analytics,\r\n",
      "\t\t\t\t\t\t\t\t\tBusiness Mathematics and Macroeconomics courses to overall 111 students.\n",
      "Students with no prior knowledge of programming successfully learned Python, R, Stata and IBM SPSS\r\n",
      "\t\t\t\t\t\t\t\t\tand applied their skills by participating to a Kaggle competition as a final course project\n",
      "I was awarded a one year fellowship to teach modern economics at local universities.\r\n",
      "\t\t\t\t\t\t\t\t\tDuring the fellowship tenure I taught around 230 students at 3 different universities.\n",
      "Developed a software (using R, HTML, CSS) for Post Disaster Needs Assessment.\r\n",
      "\t\t\t\t\t\t\t\t\tConsulted contracted companies regarding Ministry staff appraisal and training needs assessment.\r\n",
      "\t\t\t\t\t\t\t\t\tConsulted National Statistical Service regarding Census (and post census) activities\n",
      "Led several major Data Science projects, participated in different quantitative and qualitative surveys\r\n",
      "\t\t\t\t\t\t\t\t\tprovided consulting to local and international, private and public organizations.\n",
      "Developed business proposals applying financial and operations analytics techniques. The main tool used were spreadsheets and Microsoft Power tools\n",
      "Thesis: Vulnerability to manipulation for positional voting rules\n",
      "Thesis: The effect of correlation neglect on polarization\n",
      "None\n",
      "None\n",
      "None\n"
     ]
    }
   ],
   "source": [
    "for i in p_tags:\n",
    "    print(i.string)"
   ]
  },
  {
   "cell_type": "code",
   "execution_count": null,
   "metadata": {
    "collapsed": true
   },
   "outputs": [],
   "source": []
  }
 ],
 "metadata": {
  "kernelspec": {
   "display_name": "Python 2",
   "language": "python",
   "name": "python2"
  },
  "language_info": {
   "codemirror_mode": {
    "name": "ipython",
    "version": 2
   },
   "file_extension": ".py",
   "mimetype": "text/x-python",
   "name": "python",
   "nbconvert_exporter": "python",
   "pygments_lexer": "ipython2",
   "version": "2.7.13"
  }
 },
 "nbformat": 4,
 "nbformat_minor": 2
}
